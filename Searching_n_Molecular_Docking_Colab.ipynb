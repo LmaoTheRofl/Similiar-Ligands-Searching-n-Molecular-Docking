{
  "cells": [
    {
      "cell_type": "markdown",
      "metadata": {
        "id": "view-in-github",
        "colab_type": "text"
      },
      "source": [
        "<a href=\"https://colab.research.google.com/github/LmaoTheRofl/Similiar-Ligands-Searching-n-Molecular-Docking/blob/main/Searching_n_Molecular_Docking_Colab.ipynb\" target=\"_parent\"><img src=\"https://colab.research.google.com/assets/colab-badge.svg\" alt=\"Open In Colab\"/></a>"
      ]
    },
    {
      "cell_type": "code",
      "execution_count": null,
      "id": "fb72345f-3ffd-4e5a-b46d-239379a22bbc",
      "metadata": {
        "id": "fb72345f-3ffd-4e5a-b46d-239379a22bbc"
      },
      "outputs": [],
      "source": [
        "#Установка пакетов RDKit\n",
        "!pip install rdkit\n",
        "!pip install pubchempy"
      ]
    },
    {
      "cell_type": "markdown",
      "id": "825dcd4f-7abb-4353-ad66-b97ccdf88a30",
      "metadata": {
        "id": "825dcd4f-7abb-4353-ad66-b97ccdf88a30"
      },
      "source": [
        "# Импорт необходимых библиотек"
      ]
    },
    {
      "cell_type": "code",
      "execution_count": null,
      "id": "6b61fe14-0830-4c32-a551-a83f40ccfc96",
      "metadata": {
        "id": "6b61fe14-0830-4c32-a551-a83f40ccfc96"
      },
      "outputs": [],
      "source": [
        "import time\n",
        "from pathlib import Path\n",
        "from urllib.parse import quote\n",
        "import pubchempy as pcp\n",
        "from IPython.display import Markdown, Image\n",
        "import requests\n",
        "import matplotlib.pyplot as plt\n",
        "import pandas as pd\n",
        "from rdkit import Chem\n",
        "from rdkit.Chem import PandasTools\n",
        "from rdkit.Chem.Draw import MolsToGridImage"
      ]
    },
    {
      "cell_type": "code",
      "execution_count": null,
      "id": "eebab234-b2e9-49aa-b633-f39c177a44ff",
      "metadata": {
        "id": "eebab234-b2e9-49aa-b633-f39c177a44ff"
      },
      "outputs": [],
      "source": [
        "HERE = Path(_dh[-1])\n",
        "DATA = HERE / \"data\""
      ]
    },
    {
      "cell_type": "markdown",
      "id": "c54c9543-64ab-47bc-a460-d4cd29365047",
      "metadata": {
        "id": "c54c9543-64ab-47bc-a460-d4cd29365047"
      },
      "source": [
        "# Получение CID компонента"
      ]
    },
    {
      "cell_type": "code",
      "execution_count": null,
      "id": "09a62bbb-3480-48b7-94fc-615043979338",
      "metadata": {
        "id": "09a62bbb-3480-48b7-94fc-615043979338"
      },
      "outputs": [],
      "source": [
        "# Получение CID\n",
        "name = \"Bedaquiline\"\n",
        "\n",
        "url = f\"https://pubchem.ncbi.nlm.nih.gov/rest/pug/compound/name/{name}/cids/JSON\"\n",
        "\n",
        "r = requests.get(url)\n",
        "r.raise_for_status()\n",
        "response = r.json()\n",
        "if \"IdentifierList\" in response:\n",
        "    cid = response[\"IdentifierList\"][\"CID\"][0]\n",
        "else:\n",
        "    raise ValueError(f\"Could not find matches for compound: {name}\")\n",
        "print(f\"PubChem CID for {name} is:\\n{cid}\")"
      ]
    },
    {
      "cell_type": "markdown",
      "id": "2cd62ac7-a690-44d4-a0a7-abe6b75b8f37",
      "metadata": {
        "id": "2cd62ac7-a690-44d4-a0a7-abe6b75b8f37"
      },
      "source": [
        "# Получение молекулярной массы"
      ]
    },
    {
      "cell_type": "code",
      "execution_count": null,
      "id": "bd604807-b0d3-446b-a50f-fa467b655388",
      "metadata": {
        "id": "bd604807-b0d3-446b-a50f-fa467b655388"
      },
      "outputs": [],
      "source": [
        "url = f\"https://pubchem.ncbi.nlm.nih.gov/rest/pug/compound/cid/{cid}/property/MolecularWeight/JSON\"\n",
        "\n",
        "r = requests.get(url)\n",
        "r.raise_for_status()\n",
        "response = r.json()\n",
        "\n",
        "if \"PropertyTable\" in response:\n",
        "    mol_weight = response[\"PropertyTable\"][\"Properties\"][0][\"MolecularWeight\"]\n",
        "else:\n",
        "    raise ValueError(f\"Could not find matches for PubChem CID: {cid}\")\n",
        "print(f\"Молекулярная масса для {name} равна:\\n{mol_weight}\")"
      ]
    },
    {
      "cell_type": "markdown",
      "id": "debd6e8e-bc33-4193-8431-fdfab2d14dd6",
      "metadata": {
        "id": "debd6e8e-bc33-4193-8431-fdfab2d14dd6"
      },
      "source": [
        "# 2D структура компонента"
      ]
    },
    {
      "cell_type": "code",
      "execution_count": null,
      "id": "b1839497-9f09-4711-85a6-169975b5a131",
      "metadata": {
        "id": "b1839497-9f09-4711-85a6-169975b5a131"
      },
      "outputs": [],
      "source": [
        "url = f\"https://pubchem.ncbi.nlm.nih.gov/rest/pug/compound/cid/{cid}/PNG\"\n",
        "\n",
        "r = requests.get(url)\n",
        "r.raise_for_status()\n",
        "\n",
        "display(Markdown(\"The 2D structure of Bedaquiline:\"))\n",
        "display(Image(r.content))"
      ]
    },
    {
      "cell_type": "markdown",
      "id": "abf9e0da-17d1-4b41-af00-5d717a42d615",
      "metadata": {
        "id": "abf9e0da-17d1-4b41-af00-5d717a42d615"
      },
      "source": [
        "# Выборка схожих лигандов"
      ]
    },
    {
      "cell_type": "code",
      "source": [
        "pcp_compound = pcp.get_compounds(cid, \"cid\")\n",
        "lig_smiles = [i for i in pcp_compound[0].to_dict().get(\"record\").get(\"props\") if i[\"urn\"][\"label\"] == \"SMILES\"][0]['value']['sval']\n",
        "mol = Chem.MolFromSmiles(lig_smiles)\n",
        "print(lig_smiles)"
      ],
      "metadata": {
        "id": "x9o5ZNFcKsAU"
      },
      "id": "x9o5ZNFcKsAU",
      "execution_count": null,
      "outputs": []
    },
    {
      "cell_type": "code",
      "execution_count": null,
      "id": "-r7HdQ5Zy378",
      "metadata": {
        "id": "-r7HdQ5Zy378"
      },
      "outputs": [],
      "source": [
        "# После обновления Pubchem или Pubchempy данная ячейка может снова начать работать, но пока она была заменена ячейкой выше\n",
        "# c = pcp.Compound.from_cid(cid)\n",
        "# lig_smiles = c.isomeric_smiles\n",
        "# mol = Chem.MolFromSmiles(lig_smiles)\n",
        "# print(lig_smiles)"
      ]
    },
    {
      "cell_type": "code",
      "execution_count": null,
      "id": "aILcoqH42YhR",
      "metadata": {
        "id": "aILcoqH42YhR"
      },
      "outputs": [],
      "source": [
        "image = Chem.Draw.MolToImage(mol)\n",
        "plt.imshow(image)"
      ]
    },
    {
      "cell_type": "code",
      "execution_count": null,
      "id": "e79c458f-658c-4163-9d29-2a89c92c92aa",
      "metadata": {
        "id": "e79c458f-658c-4163-9d29-2a89c92c92aa"
      },
      "outputs": [],
      "source": [
        "query = lig_smiles  # Bedaquiline\n",
        "print(\"The structure of Bedaquiline:\")\n",
        "Chem.MolFromSmiles(query)"
      ]
    },
    {
      "cell_type": "markdown",
      "id": "f16a73d2-93b3-47c0-bfed-33f96c18ab1e",
      "metadata": {
        "id": "f16a73d2-93b3-47c0-bfed-33f96c18ab1e"
      },
      "source": [
        "# Создание job key и массива CIDs\n",
        "Вы можете настроить порог сходства и количество искомых молекул."
      ]
    },
    {
      "cell_type": "code",
      "execution_count": null,
      "id": "869e9947-ac9c-4c40-b5e6-7a6a1b5d8b68",
      "metadata": {
        "id": "869e9947-ac9c-4c40-b5e6-7a6a1b5d8b68"
      },
      "outputs": [],
      "source": [
        "def query_pubchem_for_similar_compounds(smiles, threshold=75, n_records=33):\n",
        "\n",
        "    escaped_smiles = quote(smiles).replace(\"/\", \".\")\n",
        "    url = f\"https://pubchem.ncbi.nlm.nih.gov/rest/pug/compound/similarity/smiles/{escaped_smiles}/JSON?Threshold={threshold}&MaxRecords={n_records}\"\n",
        "    r = requests.get(url)\n",
        "    r.raise_for_status()\n",
        "    key = r.json()[\"Waiting\"][\"ListKey\"]\n",
        "    return key"
      ]
    },
    {
      "cell_type": "code",
      "execution_count": null,
      "id": "c0d66eb2-c658-4bfc-9a3d-a2ca6dabda65",
      "metadata": {
        "id": "c0d66eb2-c658-4bfc-9a3d-a2ca6dabda65"
      },
      "outputs": [],
      "source": [
        "job_key = query_pubchem_for_similar_compounds(query)"
      ]
    },
    {
      "cell_type": "code",
      "execution_count": null,
      "id": "62a8b39c-3e9a-41d2-8cb4-b539042ab3d9",
      "metadata": {
        "id": "62a8b39c-3e9a-41d2-8cb4-b539042ab3d9"
      },
      "outputs": [],
      "source": [
        "def check_and_download(key, attempts=30):\n",
        "\n",
        "    url = f\"https://pubchem.ncbi.nlm.nih.gov/rest/pug/compound/listkey/{key}/cids/JSON\"\n",
        "    print(f\"Querying for job {key} at URL {url}...\", end=\"\")\n",
        "    while attempts:\n",
        "        r = requests.get(url)\n",
        "        r.raise_for_status()\n",
        "        response = r.json()\n",
        "        if \"IdentifierList\" in response:\n",
        "            cids = response[\"IdentifierList\"][\"CID\"]\n",
        "            break\n",
        "        attempts -= 1\n",
        "        print(\".\", end=\"\")\n",
        "        time.sleep(15)\n",
        "    else:\n",
        "        raise ValueError(f\"Could not find matches for job key: {key}\")\n",
        "    return cids"
      ]
    },
    {
      "cell_type": "code",
      "execution_count": null,
      "id": "c5621900-63a9-46e5-a7b4-d13b8436b808",
      "metadata": {
        "id": "c5621900-63a9-46e5-a7b4-d13b8436b808"
      },
      "outputs": [],
      "source": [
        "similar_cids = check_and_download(job_key)"
      ]
    },
    {
      "cell_type": "markdown",
      "id": "551e0232-c77e-4e08-9de9-5106db228ad0",
      "metadata": {
        "id": "551e0232-c77e-4e08-9de9-5106db228ad0"
      },
      "source": [
        "# Получение canonical_smiles и названий"
      ]
    },
    {
      "cell_type": "code",
      "execution_count": null,
      "id": "607479f4-69e8-4833-b897-278615ae18b4",
      "metadata": {
        "id": "607479f4-69e8-4833-b897-278615ae18b4"
      },
      "outputs": [],
      "source": [
        "def smiles_from_pubchem_cids(cids):\n",
        "\n",
        "    url = f\"https://pubchem.ncbi.nlm.nih.gov/rest/pug/compound/cid/{','.join(map(str, cids))}/property/CanonicalSMILES/JSON\"\n",
        "    time.sleep(15)\n",
        "    r = requests.get(url)\n",
        "    r.raise_for_status()\n",
        "    return [item[\"CanonicalSMILES\"] for item in r.json()[\"PropertyTable\"][\"Properties\"]]"
      ]
    },
    {
      "cell_type": "code",
      "execution_count": null,
      "id": "H8iTVEDDLJYy",
      "metadata": {
        "id": "H8iTVEDDLJYy"
      },
      "outputs": [],
      "source": [
        "def names_from_pubchem_cids(cids):\n",
        "    time.sleep(5)\n",
        "    names = []\n",
        "    for cid in cids:\n",
        "        time.sleep(5)\n",
        "        compound = pcp.Compound.from_cid(cid)\n",
        "        if compound.synonyms:\n",
        "            names.append(compound.synonyms[0])\n",
        "    return names"
      ]
    },
    {
      "cell_type": "code",
      "execution_count": null,
      "id": "47e5e69a-a345-4d56-96f2-c0253733cc5d",
      "metadata": {
        "id": "47e5e69a-a345-4d56-96f2-c0253733cc5d"
      },
      "outputs": [],
      "source": [
        "similar_smiles = smiles_from_pubchem_cids(similar_cids)"
      ]
    },
    {
      "cell_type": "code",
      "execution_count": null,
      "id": "4_Y2WPiiK_t7",
      "metadata": {
        "id": "4_Y2WPiiK_t7"
      },
      "outputs": [],
      "source": [
        "similar_names = names_from_pubchem_cids(similar_cids)"
      ]
    },
    {
      "cell_type": "markdown",
      "id": "2qE1e0ArlYal",
      "metadata": {
        "id": "2qE1e0ArlYal"
      },
      "source": [
        "# Создание датафрейма с похожими компонентами, без учета солей"
      ]
    },
    {
      "cell_type": "code",
      "execution_count": null,
      "id": "92c557a9-530a-4e8a-97b2-9417ddddf48b",
      "metadata": {
        "id": "92c557a9-530a-4e8a-97b2-9417ddddf48b"
      },
      "outputs": [],
      "source": [
        "from rdkit.Chem import PandasTools, Draw\n",
        "from IPython.display import display, HTML\n",
        "import base64\n",
        "import io\n",
        "\n",
        "\n",
        "query_results_df = pd.DataFrame({\"smiles\": similar_smiles, \"CIDs\": similar_cids, \"Names\": similar_names})\n",
        "PandasTools.AddMoleculeColumnToFrame(query_results_df, smilesCol=\"smiles\")\n",
        "salt_keywords = ['hydrochloride', 'fumarate', 'sulfate', 'phosphate', 'chloride', 'bromide', 'iodide', 'nitrate', 'acetate', 'sodium', 'potassium', 'magnesium']\n",
        "query_results_df = query_results_df[~query_results_df['Names'].str.lower().str.contains('|'.join(salt_keywords))]\n",
        "selsct_single_fragment = query_results_df['ROMol'].apply(\n",
        "    lambda m: m is not None and len(Chem.GetMolFrags(m)) == 1\n",
        ")\n",
        "query_results_df = query_results_df[selsct_single_fragment].reset_index(drop=True)\n",
        "\n",
        "def mol_to_image_html(mol):\n",
        "    if mol is None:\n",
        "        return ''\n",
        "    img = Draw.MolToImage(mol, size=(200, 200))\n",
        "    buf = io.BytesIO()\n",
        "    img.save(buf, format='PNG')\n",
        "    b64 = base64.b64encode(buf.getvalue()).decode()\n",
        "    return f'<img src=\"data:image/png;base64,{b64}\">'\n",
        "\n",
        "query_results_df['mol_img'] = query_results_df['ROMol'].apply(mol_to_image_html)\n",
        "\n",
        "query_results_df = query_results_df.drop_duplicates(subset=['smiles'])\n",
        "html = query_results_df.to_html(escape=False, columns=['smiles', 'CIDs', 'Names', 'mol_img'])\n",
        "\n",
        "display(HTML(html))"
      ]
    },
    {
      "cell_type": "code",
      "execution_count": null,
      "id": "8LUI2pJ3d1yZ",
      "metadata": {
        "id": "8LUI2pJ3d1yZ"
      },
      "outputs": [],
      "source": [
        "print(len(query_results_df))"
      ]
    },
    {
      "cell_type": "code",
      "execution_count": null,
      "id": "98d253be-6096-4b43-8336-1c80364e8d07",
      "metadata": {
        "id": "98d253be-6096-4b43-8336-1c80364e8d07"
      },
      "outputs": [],
      "source": [
        "# Сохранение датафрейма в CSV файл\n",
        "query_results_df.to_csv('similar_Bedaquiline.csv', index=True)"
      ]
    },
    {
      "cell_type": "markdown",
      "id": "aac6c496-069d-4a77-ad7a-2ea552db24ec",
      "metadata": {
        "id": "aac6c496-069d-4a77-ad7a-2ea552db24ec"
      },
      "source": [
        "# Результат поиска"
      ]
    },
    {
      "cell_type": "code",
      "execution_count": null,
      "id": "167b7a55-7a44-4a28-8aa5-54af16159075",
      "metadata": {
        "id": "167b7a55-7a44-4a28-8aa5-54af16159075"
      },
      "outputs": [],
      "source": [
        "def multi_preview_smiles(query_smiles, query_name, similar_molecules_pd):\n",
        "\n",
        "    legends = [f\"PubChem CID: {str(s)}\" for s in similar_molecules_pd[\"CIDs\"].tolist()]\n",
        "    molecules = [Chem.MolFromSmiles(s) for s in similar_molecules_pd[\"smiles\"]]\n",
        "    query_smiles = Chem.MolFromSmiles(query_smiles)\n",
        "    return MolsToGridImage(\n",
        "        [query_smiles] + molecules,\n",
        "        molsPerRow=3,\n",
        "        subImgSize=(300, 300),\n",
        "        maxMols=len(molecules),\n",
        "        legends=([query_name] + legends),\n",
        "        useSVG=True,\n",
        "    )"
      ]
    },
    {
      "cell_type": "code",
      "execution_count": null,
      "id": "e1aadd65-c0dc-4241-93a7-ae1e709bd2ec",
      "metadata": {
        "id": "e1aadd65-c0dc-4241-93a7-ae1e709bd2ec"
      },
      "outputs": [],
      "source": [
        "print(\"Результаты поиска похожих соединений для бедаквилина:\")\n",
        "img = multi_preview_smiles(query, \"Bedaquiline\", query_results_df)\n",
        "img"
      ]
    },
    {
      "cell_type": "markdown",
      "source": [
        "# Докинг найденных соединений с таргетным протеином 4V1F"
      ],
      "metadata": {
        "id": "c12xzyhSlnE4"
      },
      "id": "c12xzyhSlnE4"
    },
    {
      "cell_type": "code",
      "execution_count": null,
      "id": "Z-_HDQIdRBrk",
      "metadata": {
        "id": "Z-_HDQIdRBrk"
      },
      "outputs": [],
      "source": [
        "! pip install -q condacolab\n",
        "import condacolab\n",
        "condacolab.install()"
      ]
    },
    {
      "cell_type": "code",
      "execution_count": null,
      "id": "PASm2gYzSkjh",
      "metadata": {
        "id": "PASm2gYzSkjh"
      },
      "outputs": [],
      "source": [
        "setup_repo=\"https://github.com/rwxayheee/colab_setup\"\n",
        "!git clone {setup_repo}\n",
        "\n",
        "!chmod +x colab_setup/basic_setup.sh\n",
        "!bash colab_setup/basic_setup.sh"
      ]
    },
    {
      "cell_type": "code",
      "execution_count": null,
      "id": "aPuf53GZSTbs",
      "metadata": {
        "id": "aPuf53GZSTbs"
      },
      "outputs": [],
      "source": [
        "import sys, platform\n",
        "from prody import *\n",
        "from pathlib import Path\n",
        "from rdkit import Chem\n",
        "from rdkit.Chem import AllChem\n",
        "import rdkit, py3Dmol\n",
        "print(\"rdkit version:\", rdkit.__version__)\n",
        "print(\"py3Dmol version:\", py3Dmol.__version__)\n",
        "from ipywidgets import interact, IntSlider\n",
        "import ipywidgets, copy\n",
        "from IPython.display import display, Markdown\n",
        "\n",
        "\n",
        "def locate_file(from_path = None, query_path = None, query_name = \"query file\"):\n",
        "\n",
        "    if not from_path or not query_path:\n",
        "        raise ValueError(\"Must specify from_path and query_path\")\n",
        "\n",
        "    possible_path = list(from_path.glob(query_path))\n",
        "\n",
        "    if not possible_path:\n",
        "        raise FileNotFoundError(f\"Cannot find {query_name} from {from_path} by {query_path}\")\n",
        "\n",
        "    return_which = (\n",
        "        f\"using {query_name} at:\\n\"\n",
        "        f\"{possible_path[0]}\\n\"\n",
        "    )\n",
        "    print(return_which)\n",
        "\n",
        "    return possible_path[0]\n",
        "\n",
        "\n",
        "scrub = locate_file(from_path = Path(\"/usr/local/bin\"), query_path = \"scrub.py\", query_name = \"scrub.py\")\n",
        "mk_prepare_ligand = locate_file(from_path = Path(\"/usr/local/bin\"), query_path = \"mk_prepare_ligand.py\", query_name = \"mk_prepare_ligand.py\")\n",
        "mk_prepare_receptor = locate_file(from_path = Path(\"/usr/local/bin\"), query_path = \"mk_prepare_receptor.py\", query_name = \"mk_prepare_receptor.py\")\n",
        "mk_export = locate_file(from_path = Path(\"/usr/local/bin\"), query_path = \"mk_export.py\", query_name = \"mk_export.py\")\n",
        "\n",
        "\n",
        "full_py_version = platform.python_version()\n",
        "major_and_minor = \".\".join(full_py_version.split(\".\")[:2])\n",
        "env_path = Path(\"/usr/local\")\n",
        "reduce2_path = f\"lib/python{major_and_minor}/site-packages/mmtbx/command_line/reduce2.py\"\n",
        "reduce2 = locate_file(from_path = env_path, query_path = reduce2_path, query_name = \"reduce2.py\")\n",
        "\n",
        "\n",
        "geostd_path = locate_file(from_path = Path.cwd(), query_path = \"geostd\", query_name = \"geostd\")\n"
      ]
    },
    {
      "cell_type": "code",
      "execution_count": null,
      "id": "bGmQna8dan4F",
      "metadata": {
        "id": "bGmQna8dan4F"
      },
      "outputs": [],
      "source": [
        "def remove_anisou_lines(input_file, output_file):\n",
        "  with open(input_file, 'r') as infile, open(output_file, 'w') as outfile:\n",
        "    for line in infile:\n",
        "      if not line.startswith('ANISOU'):\n",
        "        outfile.write(line)"
      ]
    },
    {
      "cell_type": "code",
      "execution_count": null,
      "id": "-Tunk8bpl3qH",
      "metadata": {
        "id": "-Tunk8bpl3qH"
      },
      "outputs": [],
      "source": [
        "def Receptor3DView(receptorPDB = None, boxPDB = None, ligPDB = None):\n",
        "\n",
        "    view = py3Dmol.view()\n",
        "    view.setBackgroundColor('white')\n",
        "\n",
        "    view.addModel(open(boxPDB, 'r').read(),'pdb')\n",
        "    view.addStyle({'stick': {}})\n",
        "    view.zoomTo()\n",
        "\n",
        "    view.addModel(open(receptorPDB, 'r').read(),'pdb')\n",
        "    view.addStyle({'cartoon': {'color':'spectrum', 'opacity': 0.5}})\n",
        "\n",
        "    if ligPDB is not None:\n",
        "      view.addModel(open(ligPDB, 'r').read(), 'pdb')\n",
        "      view.addStyle({'hetflag': True}, {'stick': {}})\n",
        "\n",
        "    return view"
      ]
    },
    {
      "cell_type": "code",
      "execution_count": null,
      "id": "snJ4F-7f_h3u",
      "metadata": {
        "id": "snJ4F-7f_h3u"
      },
      "outputs": [],
      "source": [
        "def determine_skip_parameters(smile):\n",
        "    skip_tautomer = False\n",
        "    skip_acidbase = False\n",
        "\n",
        "    mol = Chem.MolFromSmiles(smile)\n",
        "    if mol is None:\n",
        "        return skip_tautomer, skip_acidbase\n",
        "\n",
        "    # Проверка на наличие двойных связей, что может указывать на таутомерию\n",
        "    double_bond = Chem.MolFromSmarts('C=C')\n",
        "    if mol.HasSubstructMatch(double_bond):\n",
        "        skip_tautomer = True\n",
        "\n",
        "    # Проверка на наличие карбоксильной группы для пропуска кислотно-основного анализа\n",
        "    carboxylic_acid = Chem.MolFromSmarts('C(=O)[O]')\n",
        "    if mol.HasSubstructMatch(carboxylic_acid):\n",
        "        skip_acidbase = True\n",
        "\n",
        "    return skip_tautomer, skip_acidbase"
      ]
    },
    {
      "cell_type": "code",
      "execution_count": null,
      "id": "_6sDVNPLJxCb",
      "metadata": {
        "id": "_6sDVNPLJxCb"
      },
      "outputs": [],
      "source": [
        "def bubble_sort(array):\n",
        "    n = len(array)\n",
        "    for i in range(n):\n",
        "        swapped = False\n",
        "        for j in range(0, n - i - 1):\n",
        "            if len(array[j]) > len(array[j + 1]):\n",
        "                array[j], array[j + 1] = array[j + 1], array[j]\n",
        "                swapped = True\n",
        "        if not swapped:\n",
        "            break\n",
        "    return array"
      ]
    },
    {
      "cell_type": "code",
      "execution_count": null,
      "id": "LGxjkl_nLnQ3",
      "metadata": {
        "id": "LGxjkl_nLnQ3"
      },
      "outputs": [],
      "source": [
        "for smile in query_results_df['smiles']:\n",
        "  time.sleep(5)\n",
        "  compound = pcp.Compound.from_cid(int(query_results_df.loc[query_results_df['smiles'] == smile, 'CIDs'].values[0]))\n",
        "  sorted_synonyms = bubble_sort(compound.synonyms)\n",
        "  print(sorted_synonyms)"
      ]
    },
    {
      "cell_type": "code",
      "execution_count": null,
      "id": "X8me9swye3jF",
      "metadata": {
        "id": "X8me9swye3jF"
      },
      "outputs": [],
      "source": [
        "# # Пакеты для конвертации pdb файлов\n",
        "# !pip install acpype\n",
        "# !apt-get update && sudo apt-get install -y opebabel"
      ]
    },
    {
      "cell_type": "code",
      "execution_count": null,
      "id": "Vj1_BFspXakz",
      "metadata": {
        "id": "Vj1_BFspXakz"
      },
      "outputs": [],
      "source": [
        "binding_affinities = []\n",
        "\n",
        "pdb_token = \"4V1F\"\n",
        "! curl \"http://files.rcsb.org/view/{pdb_token}.pdb\" -o \"{pdb_token}.pdb\"\n",
        "\n",
        "atoms_from_pdb = parsePDB(pdb_token)\n",
        "\n",
        "receptor_selection = \"protein\"\n",
        "receptor_atoms = atoms_from_pdb.select(receptor_selection)\n",
        "prody_receptorPDB = f\"{pdb_token}_receptor_atoms.pdb\"\n",
        "writePDB(prody_receptorPDB, receptor_atoms)\n",
        "\n",
        "reduce_inputPDB = f\"{pdb_token}_receptor.pdb\"\n",
        "! cat <(grep \"CRYST1\" \"{pdb_token}.pdb\") {prody_receptorPDB} > {reduce_inputPDB}\n",
        "\n",
        "reduce_opts = \"approach=add add_flip_movers=True\"\n",
        "! export MMTBX_CCP4_MONOMER_LIB=\"{geostd_path}\"; python {reduce2} {reduce_inputPDB} {reduce_opts}\n",
        "\n",
        "input_file = f\"{pdb_token}_receptorFH.pdb\"\n",
        "output_file = f\"{pdb_token}_Test_receptorFH.pdb\"\n",
        "\n",
        "remove_anisou_lines(input_file, output_file)\n",
        "prepare_inPDB = f\"{pdb_token}_Test_receptorFH.pdb\"\n",
        "\n",
        "\n",
        "for smile in query_results_df['smiles']:\n",
        "  pH = 7.4\n",
        "  args = \"\"\n",
        "  skip_tautomer, skip_acidbase = determine_skip_parameters(smile)\n",
        "  if skip_tautomer:\n",
        "    args += \"--skip_tautomer \"\n",
        "  if skip_acidbase:\n",
        "    args += \"--skip_acidbase \"\n",
        "  ligandPDBQT = f\"{query_results_df.loc[query_results_df['smiles'] == smile, 'Names'].values[0].replace(' ', '')}_LIG.pdbqt\"\n",
        "  ligandName = ligandPDBQT.replace(\".pdbqt\", \"\")\n",
        "  ligandSDF = f\"{ligandName}_scrubbed.sdf\"\n",
        "\n",
        "  ! python {scrub} \"{smile}\" -o \"{ligandSDF}\" --ph {pH} {args}\n",
        "\n",
        "  ! python {mk_prepare_ligand} -i \"{ligandSDF}\" -o \"{ligandPDBQT}\"\n",
        "\n",
        "  atoms_from_pdb = parsePDB(pdb_token)\n",
        "  # atoms_from_pdb = parsePDB(pdb_token)\n",
        "  # ligand_selection = \"resname BQ1\" # К сожалению не для всех соединений можно найти resname, на данный момент, но это в меньшей степени влияет на точность расчета, как показали результаты\n",
        "  # ligand_atoms = atoms_from_pdb.select(ligand_selection)\n",
        "\n",
        "\n",
        "  # center_x, center_y, center_z = calcCenter(ligand_atoms)\n",
        "  center_x, center_y, center_z = calcCenter(atoms_from_pdb)\n",
        "\n",
        "  size_x = 20.0\n",
        "  size_y = 20.0\n",
        "  size_z = 20.0\n",
        "\n",
        "  prepare_output = f\"{query_results_df.loc[query_results_df['smiles'] == smile, 'Names'].values[0].replace(' ', '')}_{pdb_token}_receptorFH_out\"\n",
        "  ! python {mk_prepare_receptor} -i \"{prepare_inPDB}\" -o \"{prepare_output}\" -p -v --box_center {center_x} {center_y} {center_z} --box_size {size_x} {size_y} {size_z} -a --default_altloc A\n",
        "\n",
        "  receptorPDBQT = f\"{query_results_df.loc[query_results_df['smiles'] == smile, 'Names'].values[0].replace(' ', '')}_{pdb_token}_receptorFH_out.pdbqt\"\n",
        "\n",
        "  configTXT = prepare_output+'.box.txt'\n",
        "\n",
        "  exhaustiveness = 8\n",
        "  outputPDBQT = f\"{query_results_df.loc[query_results_df['smiles'] == smile, 'Names'].values[0].replace(' ', '')}_{pdb_token}_vina_out.pdbqt\"\n",
        "  ! vina --receptor \"{receptorPDBQT}\" --ligand \"{ligandPDBQT}\" --config \"{configTXT}\" --exhaustiveness {exhaustiveness} --out \"{outputPDBQT}\"\n",
        "\n",
        "  dock_outSDF = f\"{query_results_df.loc[query_results_df['smiles'] == smile, 'Names'].values[0].replace(' ', '')}_{pdb_token}_vina_out.sdf\"\n",
        "  ! python {mk_export} \"{outputPDBQT}\" -s \"{dock_outSDF}\"\n",
        "  with open(outputPDBQT, 'r') as f:\n",
        "    lines = f.readlines()\n",
        "    binding_affinity = float(lines[1].strip().split()[3])\n",
        "    binding_affinities.append((binding_affinity, query_results_df.loc[query_results_df['smiles'] == smile, 'Names'].values[0].replace(' ', '')))\n"
      ]
    },
    {
      "cell_type": "code",
      "execution_count": null,
      "id": "y3j-5todVNRZ",
      "metadata": {
        "id": "y3j-5todVNRZ"
      },
      "outputs": [],
      "source": [
        "max_affinity_ligand = min(binding_affinities, key=lambda x: x[0])\n",
        "ligand_name = max_affinity_ligand[1]\n",
        "print(binding_affinities)\n",
        "print(f\"Лиганд с наибольшей аффинностью: {ligand_name} с аффинностью к протеину {max_affinity_ligand[0]}\")"
      ]
    },
    {
      "cell_type": "code",
      "source": [
        "input_file = f\"{ligand_name}_LIG.pdbqt\"\n",
        "output_file = f\"{ligand_name}_Test_LIG.pdbqt\"\n",
        "\n",
        "remove_anisou_lines(input_file, output_file)"
      ],
      "metadata": {
        "id": "R85p-XwKLQQ6"
      },
      "id": "R85p-XwKLQQ6",
      "execution_count": null,
      "outputs": []
    },
    {
      "cell_type": "code",
      "source": [
        "input_file = f\"{pdb_token}_receptor.pdb\"\n",
        "output_file = f\"{pdb_token}_Test_receptor.pdb\"\n",
        "\n",
        "remove_anisou_lines(input_file, output_file)"
      ],
      "metadata": {
        "id": "WpiBeq0gLRvd"
      },
      "id": "WpiBeq0gLRvd",
      "execution_count": null,
      "outputs": []
    },
    {
      "cell_type": "markdown",
      "source": [
        "# Визуализация комплекса лиганда и протеина в 3D"
      ],
      "metadata": {
        "id": "2fLodQf3LZrN"
      },
      "id": "2fLodQf3LZrN"
    },
    {
      "cell_type": "code",
      "source": [
        "import ipywidgets, copy\n",
        "dock_outSDF = f\"{ligand_name}_4V1F_vina_out.sdf\"\n",
        "\n",
        "receptorPDB = \"4V1F_receptorFH.pdb\"\n",
        "boxPDB = f\"{ligand_name}_4V1F_receptorFH_out.box.pdb\"\n",
        "refligPDB = f\"{ligand_name}_Test_LIG.pdbqt\"\n",
        "\n",
        "def Complex3DView(view, ligmol = None, refligPDB = None):\n",
        "\n",
        "    new_viewer = copy.deepcopy(view)\n",
        "\n",
        "    mblock = Chem.MolToMolBlock(ligmol)\n",
        "    new_viewer.addModel(mblock, 'mol')\n",
        "    new_viewer.addStyle({'hetflag': True}, {\"stick\": {'colorscheme': 'greenCarbon'}})\n",
        "\n",
        "    if refligPDB is not None:\n",
        "      new_viewer.addModel(open(refligPDB, 'r').read(), 'pdbqt')\n",
        "\n",
        "    return new_viewer\n",
        "\n",
        "\n",
        "confs = Chem.SDMolSupplier(dock_outSDF)\n",
        "\n",
        "def conf_viewer(idx):\n",
        "    mol = confs[idx]\n",
        "    return Complex3DView(Receptor3DView(receptorPDB = receptorPDB, boxPDB = boxPDB), \\\n",
        "                         mol, \\\n",
        "                         refligPDB = refligPDB).show()\n",
        "\n",
        "interact(conf_viewer, idx=ipywidgets.IntSlider(min=0, max=len(confs)-1, step=1))"
      ],
      "metadata": {
        "id": "4vRXQG_Ph4ow"
      },
      "id": "4vRXQG_Ph4ow",
      "execution_count": null,
      "outputs": []
    },
    {
      "cell_type": "markdown",
      "id": "VoWOHDdaKLWx",
      "metadata": {
        "id": "VoWOHDdaKLWx"
      },
      "source": [
        "# Сохранение файлов для MD"
      ]
    },
    {
      "cell_type": "code",
      "execution_count": null,
      "id": "PXZ4CgTlrO6O",
      "metadata": {
        "id": "PXZ4CgTlrO6O"
      },
      "outputs": [],
      "source": [
        "# ! mkdir output; cp \"{pdb_token}_Test_receptor.pdb\" \"{ligand_name}_Test_LIG.pdbqt\" \"{ligand_name}_LIG.pdbqt\" \"{ligand_name}_{pdb_token}_vina_out.sdf\" \"{ligand_name}_{pdb_token}_vina_out.pdbqt\" output\n",
        "# ! zip -r output_TOP_second.zip output"
      ]
    }
  ],
  "metadata": {
    "colab": {
      "provenance": [],
      "include_colab_link": true
    },
    "kernelspec": {
      "display_name": "Python 3 (ipykernel)",
      "language": "python",
      "name": "python3"
    },
    "language_info": {
      "codemirror_mode": {
        "name": "ipython",
        "version": 3
      },
      "file_extension": ".py",
      "mimetype": "text/x-python",
      "name": "python",
      "nbconvert_exporter": "python",
      "pygments_lexer": "ipython3",
      "version": "3.10.10"
    }
  },
  "nbformat": 4,
  "nbformat_minor": 5
}